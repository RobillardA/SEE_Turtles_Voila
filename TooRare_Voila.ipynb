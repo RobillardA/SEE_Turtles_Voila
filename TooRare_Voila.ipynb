{
 "cells": [
  {
   "cell_type": "code",
   "execution_count": 1,
   "id": "prime-savannah",
   "metadata": {},
   "outputs": [],
   "source": [
    "from fastai.vision.all import *\n",
    "from fastai.vision.widgets import *"
   ]
  },
  {
   "cell_type": "code",
   "execution_count": 2,
   "id": "192199c5",
   "metadata": {},
   "outputs": [
    {
     "name": "stdout",
     "output_type": "stream",
     "text": [
      "--2021-05-10 12:25:52--  https://www.dropbox.com/s/aipyey9znar3r7r/TooRare2Wear.pkl?dl=1\n",
      "Resolving www.dropbox.com (www.dropbox.com)... 162.125.4.18\n",
      "Connecting to www.dropbox.com (www.dropbox.com)|162.125.4.18|:443... connected.\n",
      "HTTP request sent, awaiting response... 301 Moved Permanently\n",
      "Location: /s/dl/aipyey9znar3r7r/TooRare2Wear.pkl [following]\n",
      "--2021-05-10 12:25:53--  https://www.dropbox.com/s/dl/aipyey9znar3r7r/TooRare2Wear.pkl\n",
      "Reusing existing connection to www.dropbox.com:443.\n",
      "HTTP request sent, awaiting response... 302 Found\n",
      "Location: https://ucfe70627a4a39a94efa2fe7f31d.dl.dropboxusercontent.com/cd/0/get/BONaxbs3pfc1Szx5bWge3vo3B8KH6tgJVI1um1G2C_CnGs-VXHVmaHnsfvf-8fozvbL9qggMgy90bHACEAqMM20Sprl6cOA6YLpQsB34P3aJu1G31qAfphaKfYViQv-w889gA0EN7ishXSNbREkO2Ro1/file?dl=1# [following]\n",
      "--2021-05-10 12:25:53--  https://ucfe70627a4a39a94efa2fe7f31d.dl.dropboxusercontent.com/cd/0/get/BONaxbs3pfc1Szx5bWge3vo3B8KH6tgJVI1um1G2C_CnGs-VXHVmaHnsfvf-8fozvbL9qggMgy90bHACEAqMM20Sprl6cOA6YLpQsB34P3aJu1G31qAfphaKfYViQv-w889gA0EN7ishXSNbREkO2Ro1/file?dl=1\n",
      "Resolving ucfe70627a4a39a94efa2fe7f31d.dl.dropboxusercontent.com (ucfe70627a4a39a94efa2fe7f31d.dl.dropboxusercontent.com)... 162.125.4.15\n",
      "Connecting to ucfe70627a4a39a94efa2fe7f31d.dl.dropboxusercontent.com (ucfe70627a4a39a94efa2fe7f31d.dl.dropboxusercontent.com)|162.125.4.15|:443... connected.\n",
      "HTTP request sent, awaiting response... 200 OK\n",
      "Length: 179195319 (171M) [application/binary]\n",
      "Saving to: ‘TooRare2Wear.pkl’\n",
      "\n",
      "TooRare2Wear.pkl    100%[===================>] 170.89M  12.4MB/s    in 13s     \n",
      "\n",
      "2021-05-10 12:26:07 (13.0 MB/s) - ‘TooRare2Wear.pkl’ saved [179195319/179195319]\n",
      "\n"
     ]
    }
   ],
   "source": [
    "!wget -O TooRare2Wear.pkl https://www.dropbox.com/s/aipyey9znar3r7r/TooRare2Wear.pkl?dl=1 "
   ]
  },
  {
   "cell_type": "markdown",
   "id": "genetic-dress",
   "metadata": {},
   "source": [
    "SEE Turtles Image Classifier\n",
    "\n",
    "You need to know whether you're possibly going to be purchasing an item made from REAL Hawksbill Sea Turtle? Then you've come to the right place. Take a picture of the potentially illegal item, and click 'upload' to classify it."
   ]
  },
  {
   "cell_type": "code",
   "execution_count": 3,
   "id": "72df27c3",
   "metadata": {},
   "outputs": [
    {
     "name": "stdout",
     "output_type": "stream",
     "text": [
      "Darwin\n"
     ]
    }
   ],
   "source": [
    "import pathlib\n",
    "plt = platform.system()\n",
    "print(plt)\n",
    "if plt == 'Linux' or plt == 'Darwin': pathlib.WindowsPath = pathlib.PosixPath"
   ]
  },
  {
   "cell_type": "code",
   "execution_count": 4,
   "id": "stable-companion",
   "metadata": {},
   "outputs": [],
   "source": [
    "#pickle.load(export_file_url)\n",
    "export_file_name = 'TooRare2Wear.pkl'\n",
    "path = Path()\n",
    "learn_inf = load_learner(export_file_name, cpu=True)\n",
    "btn_upload = widgets.FileUpload()\n",
    "out_pl = widgets.Output()\n",
    "lbl_pred = widgets.Label()"
   ]
  },
  {
   "cell_type": "code",
   "execution_count": 5,
   "id": "packed-barrel",
   "metadata": {},
   "outputs": [],
   "source": [
    "def on_data_change(change):\n",
    "    lbl_pred.value = ''\n",
    "    img = PILImage.create(btn_upload.data[-1])\n",
    "    out_pl.clear_output()\n",
    "    with out_pl: display(img.to_thumb(128,128))\n",
    "    pred,pred_idx,probs = learn_inf.predict(img)\n",
    "    lbl_pred.value = f'Prediction: {pred}; Probability: {probs[pred_idx]:.04f}'"
   ]
  },
  {
   "cell_type": "code",
   "execution_count": 6,
   "id": "becoming-composition",
   "metadata": {},
   "outputs": [],
   "source": [
    "btn_upload.observe(on_data_change, names=['data'])"
   ]
  },
  {
   "cell_type": "code",
   "execution_count": 7,
   "id": "annoying-sleep",
   "metadata": {},
   "outputs": [
    {
     "data": {
      "application/vnd.jupyter.widget-view+json": {
       "model_id": "286b25c6b9024519847ce887ddd1d734",
       "version_major": 2,
       "version_minor": 0
      },
      "text/plain": [
       "VBox(children=(Label(value='Select your item!'), FileUpload(value={}, description='Upload'), Output(), Label(v…"
      ]
     },
     "metadata": {},
     "output_type": "display_data"
    }
   ],
   "source": [
    "display(VBox([widgets.Label('Select your item!'), btn_upload, out_pl, lbl_pred]))"
   ]
  }
 ],
 "metadata": {
  "kernelspec": {
   "display_name": "Python 3",
   "language": "python",
   "name": "python3"
  },
  "language_info": {
   "codemirror_mode": {
    "name": "ipython",
    "version": 3
   },
   "file_extension": ".py",
   "mimetype": "text/x-python",
   "name": "python",
   "nbconvert_exporter": "python",
   "pygments_lexer": "ipython3",
   "version": "3.9.4"
  }
 },
 "nbformat": 4,
 "nbformat_minor": 5
}
