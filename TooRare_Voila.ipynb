{
 "cells": [
  {
   "cell_type": "code",
   "execution_count": 1,
   "id": "prime-savannah",
   "metadata": {},
   "outputs": [],
   "source": [
    "from fastai.vision.all import *\n",
    "from fastai.vision.widgets import *"
   ]
  },
  {
   "cell_type": "code",
   "execution_count": 2,
   "id": "96585f06",
   "metadata": {},
   "outputs": [],
   "source": [
    "!wget -q -O TooRare2Wear.pkl https://www.dropbox.com/s/aipyey9znar3r7r/TooRare2Wear.pkl?dl=1 "
   ]
  },
  {
   "cell_type": "markdown",
   "id": "genetic-dress",
   "metadata": {},
   "source": [
    "SEE Turtles Image Classifier\n",
    "\n",
    "You need to know whether you're possibly going to be purchasing an item made from REAL Hawksbill Sea Turtle? Then you've come to the right place. Take a picture of the potentially illegal item, and click 'upload' to classify it."
   ]
  },
  {
   "cell_type": "code",
   "execution_count": 3,
   "id": "ad961e59",
   "metadata": {},
   "outputs": [
    {
     "name": "stdout",
     "output_type": "stream",
     "text": [
      "Darwin\n"
     ]
    }
   ],
   "source": [
    "import pathlib\n",
    "plt = platform.system()\n",
    "print(plt)\n",
    "if plt == 'Linux' or plt == 'Darwin': pathlib.WindowsPath = pathlib.PosixPath"
   ]
  },
  {
   "cell_type": "code",
   "execution_count": 4,
   "id": "stable-companion",
   "metadata": {},
   "outputs": [],
   "source": [
    "#pickle.load(export_file_url)\n",
    "export_file_name = 'TooRare2Wear.pkl'\n",
    "path = Path()\n",
    "learn_inf = load_learner(export_file_name, cpu=True)\n",
    "btn_upload = widgets.FileUpload()\n",
    "out_pl = widgets.Output()\n",
    "lbl_pred = widgets.Label()"
   ]
  },
  {
   "cell_type": "code",
   "execution_count": 5,
   "id": "packed-barrel",
   "metadata": {},
   "outputs": [],
   "source": [
    "def on_data_change(change):\n",
    "    lbl_pred.value = ''\n",
    "    img = PILImage.create(btn_upload.data[-1])\n",
    "    out_pl.clear_output()\n",
    "    with out_pl: display(img.to_thumb(128,128))\n",
    "    pred,pred_idx,probs = learn_inf.predict(img)\n",
    "    lbl_pred.value = f'Prediction: {pred}; Probability: {probs[pred_idx]:.04f}'"
   ]
  },
  {
   "cell_type": "code",
   "execution_count": 6,
   "id": "becoming-composition",
   "metadata": {},
   "outputs": [],
   "source": [
    "btn_upload.observe(on_data_change, names=['data'])"
   ]
  },
  {
   "cell_type": "code",
   "execution_count": 7,
   "id": "annoying-sleep",
   "metadata": {},
   "outputs": [
    {
     "data": {
      "application/vnd.jupyter.widget-view+json": {
       "model_id": "5af7998e170346b880a02f904c6c323b",
       "version_major": 2,
       "version_minor": 0
      },
      "text/plain": [
       "VBox(children=(Label(value='Select your item!'), FileUpload(value={}, description='Upload'), Output(), Label(v…"
      ]
     },
     "metadata": {},
     "output_type": "display_data"
    }
   ],
   "source": [
    "display(VBox([widgets.Label('Select your item!'), btn_upload, out_pl, lbl_pred]))"
   ]
  }
 ],
 "metadata": {
  "kernelspec": {
   "display_name": "Python 3",
   "language": "python",
   "name": "python3"
  },
  "language_info": {
   "codemirror_mode": {
    "name": "ipython",
    "version": 3
   },
   "file_extension": ".py",
   "mimetype": "text/x-python",
   "name": "python",
   "nbconvert_exporter": "python",
   "pygments_lexer": "ipython3",
   "version": "3.9.4"
  }
 },
 "nbformat": 4,
 "nbformat_minor": 5
}
